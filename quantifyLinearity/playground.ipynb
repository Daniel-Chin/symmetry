{
 "cells": [
  {
   "cell_type": "code",
   "execution_count": 11,
   "metadata": {},
   "outputs": [],
   "source": [
    "import numpy as np\n",
    "from matplotlib import pyplot as plt\n",
    "from scipy import stats"
   ]
  },
  {
   "cell_type": "code",
   "execution_count": 3,
   "id": "e68b7d0e",
   "metadata": {},
   "outputs": [],
   "source": [
    "x = np.linspace(0, 1, 100)"
   ]
  },
  {
   "cell_type": "code",
   "execution_count": 10,
   "id": "354cc095",
   "metadata": {},
   "outputs": [
    {
     "data": {
      "text/plain": [
       "[<matplotlib.lines.Line2D at 0x1dac6665100>]"
      ]
     },
     "execution_count": 10,
     "metadata": {},
     "output_type": "execute_result"
    },
    {
     "data": {
      "image/png": "[encoded data removed]",
      "text/plain": [
       "<Figure size 432x288 with 1 Axes>"
      ]
     },
     "metadata": {
      "needs_background": "light"
     },
     "output_type": "display_data"
    }
   ],
   "source": [
    "y_perfect = x[:]\n",
    "y = (x + .4) ** 2\n",
    "plt.plot(x, y)"
   ]
  },
  {
   "cell_type": "code",
   "execution_count": 13,
   "id": "708c6e7a",
   "metadata": {},
   "outputs": [],
   "source": [
    "def display(bad, good):\n",
    "    print('perfection is', good)\n",
    "    print('yours is', bad)"
   ]
  },
  {
   "cell_type": "code",
   "execution_count": 14,
   "id": "8e29b818",
   "metadata": {},
   "outputs": [
    {
     "name": "stdout",
     "output_type": "stream",
     "text": [
      "perfection is 1.0\n",
      "yours is 0.9794458269230064\n"
     ]
    }
   ],
   "source": [
    "def r2():\n",
    "    (\n",
    "        slope, intercept, r_value, p_value, std_err, \n",
    "    ) = stats.linregress(x, y)\n",
    "    r_2 = r_value ** 2\n",
    "    (\n",
    "        slope, intercept, r_value, p_value, std_err, \n",
    "    ) = stats.linregress(x, y_perfect)\n",
    "    perfect_r_2 = r_value ** 2\n",
    "    display(r_2, perfect_r_2)\n",
    "r2()"
   ]
  },
  {
   "cell_type": "code",
   "execution_count": 18,
   "id": "45ccf96f",
   "metadata": {},
   "outputs": [
    {
     "name": "stdout",
     "output_type": "stream",
     "text": [
      "perfection is 4.0049960362691854e-17\n",
      "yours is 0.005831523381791729\n"
     ]
    }
   ],
   "source": [
    "def varOfDiff():\n",
    "    def compute(x):\n",
    "        diff: np.array = x[1:] - x[:-1]\n",
    "        return np.std(diff)\n",
    "    display(compute(y), compute(y_perfect))\n",
    "varOfDiff()"
   ]
  }
 ],
 "metadata": {
  "kernelspec": {
   "display_name": "Python 3.8.8 ('base')",
   "language": "python",
   "name": "python3"
  },
  "language_info": {
   "codemirror_mode": {
    "name": "ipython",
    "version": 3
   },
   "file_extension": ".py",
   "mimetype": "text/x-python",
   "name": "python",
   "nbconvert_exporter": "python",
   "pygments_lexer": "ipython3",
   "version": "3.8.8"
  },
  "vscode": {
   "interpreter": {
    "hash": "ad2bdc8ecc057115af97d19610ffacc2b4e99fae6737bb82f5d7fb13d2f2c186"
   }
  }
 },
 "nbformat": 4,
 "nbformat_minor": 5
}
